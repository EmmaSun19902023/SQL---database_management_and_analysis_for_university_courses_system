{
 "cells": [
  {
   "cell_type": "markdown",
   "id": "f4b891a9-0cbb-45ba-a3aa-1fc928af783b",
   "metadata": {
    "tags": []
   },
   "source": [
    "# the 1st step is to export libraries"
   ]
  },
  {
   "cell_type": "code",
   "execution_count": 1,
   "id": "951a492f-a5bf-42e2-9a58-851ffbcc4d23",
   "metadata": {
    "tags": []
   },
   "outputs": [
    {
     "name": "stdout",
     "output_type": "stream",
     "text": [
      "Requirement already satisfied: mysql-connector-python in /Users/emmasun/anaconda3/lib/python3.11/site-packages (8.1.0)\n",
      "Requirement already satisfied: protobuf<=4.21.12,>=4.21.1 in /Users/emmasun/anaconda3/lib/python3.11/site-packages (from mysql-connector-python) (4.21.12)\n",
      "Note: you may need to restart the kernel to use updated packages.\n"
     ]
    }
   ],
   "source": [
    "pip install mysql-connector-python"
   ]
  },
  {
   "cell_type": "markdown",
   "id": "fa7d9c2f-f30b-455b-8d4a-00a29a9e300f",
   "metadata": {
    "tags": []
   },
   "source": [
    "# the 2nd step is to define connection details"
   ]
  },
  {
   "cell_type": "code",
   "execution_count": 2,
   "id": "587fd263",
   "metadata": {
    "tags": []
   },
   "outputs": [
    {
     "name": "stdout",
     "output_type": "stream",
     "text": [
      "<mysql.connector.connection_cext.CMySQLConnection object at 0x10868c410>\n",
      "CONNECTION SUCCESSFUL\n"
     ]
    }
   ],
   "source": [
    "import mysql.connector\n",
    "import pandas as pd\n",
    "\n",
    "mydb = mysql.connector.connect(\n",
    "  host=\"localhost\",\n",
    "  user=\"root\",\n",
    "  password=\"\"   #REPLACE THIS WITH THE PASSWORD YOU SET\n",
    ")\n",
    " \n",
    "print(mydb)\n",
    " \n",
    "if mydb.is_connected():\n",
    "    print(\"CONNECTION SUCCESSFUL\")\n"
   ]
  },
  {
   "cell_type": "markdown",
   "id": "acfbfb72-d736-4784-9fe6-023ae27a3dc1",
   "metadata": {},
   "source": [
    "# the 3rd step is to connect to the MySQL server"
   ]
  },
  {
   "cell_type": "code",
   "execution_count": 3,
   "id": "5972ab2e",
   "metadata": {
    "tags": []
   },
   "outputs": [],
   "source": [
    "mycursor = mydb.cursor()\n",
    "    \n",
    "mycursor.execute(\"CREATE DATABASE medical_practice\")"
   ]
  },
  {
   "cell_type": "markdown",
   "id": "219f3949-bbf0-414e-ad58-b3499ff6205c",
   "metadata": {},
   "source": [
    "# the 4th step is DB Schema Code 1 - create tables"
   ]
  },
  {
   "cell_type": "code",
   "execution_count": 4,
   "id": "3096b98c",
   "metadata": {
    "tags": []
   },
   "outputs": [],
   "source": [
    "mycursor.execute(\"CREATE TABLE medical_practice.patients (\"\n",
    "                     \"ssn VARCHAR(128) not null PRIMARY KEY,\"\n",
    "                     \"name VARCHAR(255),\"\n",
    "                     \"address VARCHAR(255),\"\n",
    "                     \"birthdate DATETIME,\"\n",
    "                     \"physician_id VARCHAR(128))\")"
   ]
  },
  {
   "cell_type": "code",
   "execution_count": 5,
   "id": "81dc980e",
   "metadata": {
    "tags": []
   },
   "outputs": [],
   "source": [
    "mycursor.execute(\"CREATE TABLE medical_practice.physicians (\"\n",
    "                     \"SSN VARCHAR(128) not null not null PRIMARY KEY,\"\n",
    "                     \"name VARCHAR(255),\"\n",
    "                     \"primary_specialty VARCHAR(255),\"\n",
    "                     \"experience_years INT,\"\n",
    "                     \"check (experience_years >= 0))\") "
   ]
  },
  {
   "cell_type": "code",
   "execution_count": 6,
   "id": "c998ddfa",
   "metadata": {
    "tags": []
   },
   "outputs": [],
   "source": [
    "mycursor.execute(\"CREATE TABLE medical_practice.pharmacies (\"\n",
    "                     \"id INT not null PRIMARY KEY,\"\n",
    "                     \"name VARCHAR(255),\"\n",
    "                     \"address VARCHAR(255),\"\n",
    "                     \"phone VARCHAR(128))\")"
   ]
  },
  {
   "cell_type": "code",
   "execution_count": 7,
   "id": "f78d5a81-3590-4ab8-a183-257464cc59c9",
   "metadata": {
    "tags": []
   },
   "outputs": [],
   "source": [
    "mycursor.execute(\"CREATE TABLE medical_practice.drugs (\"\n",
    "                     \"drug_id INT,\"\n",
    "                     \"drug_name VARCHAR(255) not null PRIMARY KEY)\")"
   ]
  },
  {
   "cell_type": "code",
   "execution_count": 8,
   "id": "f61ac914-1d0d-4c7c-a6f6-22725e7ce815",
   "metadata": {
    "tags": []
   },
   "outputs": [],
   "source": [
    "mycursor.execute(\"CREATE TABLE medical_practice.prescriptions (\"\n",
    "                     \"id INT not null PRIMARY KEY,\"\n",
    "                     \"patient_id VARCHAR(128),\"\n",
    "                     \"physician_id VARCHAR(128),\"\n",
    "                     \"drug_name VARCHAR(255),\"\n",
    "                     \"date DATE,\"\n",
    "                     \"quantity INT)\")"
   ]
  },
  {
   "cell_type": "code",
   "execution_count": 9,
   "id": "861d6041-65f5-45b2-972e-8d26a29d0b8b",
   "metadata": {
    "tags": []
   },
   "outputs": [],
   "source": [
    "mycursor.execute(\"CREATE TABLE medical_practice.adverse_reactions (\"\n",
    "                     \"drug_name_1 VARCHAR(255) not null,\"\n",
    "                     \"drug_name_2 VARCHAR(255) not null,\"\n",
    "                     \"PRIMARY KEY (drug_name_1, drug_name_2))\")"
   ]
  },
  {
   "cell_type": "code",
   "execution_count": 10,
   "id": "3e395188-02e3-4478-842d-424a87e0d7d0",
   "metadata": {},
   "outputs": [],
   "source": [
    "mycursor.execute(\"CREATE TABLE medical_practice.alerts (\"\n",
    "                     \"patient_id VARCHAR(128),\"\n",
    "                     \"physician_id VARCHAR(128),\"\n",
    "                     \"alert_date DATE,\"\n",
    "                     \"drug1 VARCHAR(255),\"\n",
    "                     \"drug2 VARCHAR(255))\")"
   ]
  },
  {
   "cell_type": "code",
   "execution_count": 11,
   "id": "32d8eb02-962b-40d7-b7c3-e4b6855f40ab",
   "metadata": {
    "tags": []
   },
   "outputs": [],
   "source": [
    "mycursor.execute(\"CREATE TABLE medical_practice.pharmacy_fills (\"\n",
    "                     \"pharmacy_id INT not null ,\"\n",
    "                     \"prescription_id INT not null ,\"\n",
    "                     \"date DATE,\"\n",
    "                     \"cost DECIMAL(10, 2),\"\n",
    "                     \"PRIMARY KEY (pharmacy_id, prescription_id))\")"
   ]
  },
  {
   "cell_type": "code",
   "execution_count": 12,
   "id": "f797b119-88a9-4c87-9f03-e8ec63d47e02",
   "metadata": {},
   "outputs": [],
   "source": [
    "mycursor.execute(\"CREATE TABLE medical_practice.companies (\"\n",
    "                     \"id INT not null PRIMARY KEY,\"\n",
    "                     \"name VARCHAR(255),\"\n",
    "                     \"address VARCHAR(255),\"\n",
    "                     \"contact_phone VARCHAR(128),\"\n",
    "                     \"contact_name VARCHAR(255))\")"
   ]
  },
  {
   "cell_type": "code",
   "execution_count": 13,
   "id": "a171dbb2-c3c0-47b9-b1c3-677f1ffd97b3",
   "metadata": {},
   "outputs": [],
   "source": [
    "mycursor.execute(\"CREATE TABLE medical_practice.contracts (\"\n",
    "                     \"Contract_Id INT not null PRIMARY KEY,\"\n",
    "                     \"drug VARCHAR(255),\"\n",
    "                     \"dosage INT,\"\n",
    "                     \"pharmacy_id INT,\"\n",
    "                     \"pharm_company_id INT,\"\n",
    "                     \"quantity INT,\"\n",
    "                     \"date DATE,\"\n",
    "                     \"price INT check (price >= 0))\")"
   ]
  },
  {
   "cell_type": "code",
   "execution_count": 14,
   "id": "655f8d25-31fc-4798-b970-490b4b9242c4",
   "metadata": {
    "tags": []
   },
   "outputs": [],
   "source": [
    "mydb = mysql.connector.connect(\n",
    "  host=\"localhost\",\n",
    "  user=\"root\",\n",
    "  password=\"\", #REPLACE THIS WITH YOUR PASSWORD \n",
    "  database = \"medical_practice\" \n",
    ")"
   ]
  },
  {
   "cell_type": "code",
   "execution_count": 15,
   "id": "351d7a62-0872-4038-8962-826fc61c0063",
   "metadata": {
    "tags": []
   },
   "outputs": [],
   "source": [
    "mycursor = mydb.cursor()"
   ]
  },
  {
   "cell_type": "code",
   "execution_count": 16,
   "id": "425c80d0",
   "metadata": {},
   "outputs": [
    {
     "name": "stdout",
     "output_type": "stream",
     "text": [
      "('adverse_reactions',)\n",
      "('alerts',)\n",
      "('companies',)\n",
      "('contracts',)\n",
      "('drugs',)\n",
      "('patients',)\n",
      "('pharmacies',)\n",
      "('pharmacy_fills',)\n",
      "('physicians',)\n",
      "('prescriptions',)\n"
     ]
    }
   ],
   "source": [
    "mycursor.execute(\"SHOW TABLES\")\n",
    "\n",
    "for x in mycursor:\n",
    "      print(x)"
   ]
  },
  {
   "cell_type": "markdown",
   "id": "182c07d2",
   "metadata": {},
   "source": [
    "# the 5th step is DB Schema Code 2 - define foreign keys"
   ]
  },
  {
   "cell_type": "code",
   "execution_count": 17,
   "id": "f9d2146e",
   "metadata": {
    "tags": []
   },
   "outputs": [],
   "source": [
    "query = ('ALTER TABLE patients ADD FOREIGN KEY (physician_id) REFERENCES physicians(SSN)')\n",
    "mycursor.execute(query)"
   ]
  },
  {
   "cell_type": "code",
   "execution_count": 18,
   "id": "5961de78-78b2-4b9b-aa59-1cda2e916461",
   "metadata": {},
   "outputs": [],
   "source": [
    "query = ('ALTER TABLE prescriptions ADD FOREIGN KEY (patient_id) REFERENCES patients(ssn)')\n",
    "mycursor.execute(query)"
   ]
  },
  {
   "cell_type": "code",
   "execution_count": 19,
   "id": "9b5e85bf-8af8-491f-bf61-ac98607bf835",
   "metadata": {},
   "outputs": [],
   "source": [
    "query = ('ALTER TABLE prescriptions ADD FOREIGN KEY (physician_id) REFERENCES physicians(SSN)')\n",
    "mycursor.execute(query)"
   ]
  },
  {
   "cell_type": "code",
   "execution_count": 20,
   "id": "0dda7ba2-3b8d-4bb4-8182-e500c1af2625",
   "metadata": {
    "tags": []
   },
   "outputs": [],
   "source": [
    "mycursor.execute(\"CREATE UNIQUE INDEX idx_drug_name ON drugs(drug_name)\")"
   ]
  },
  {
   "cell_type": "code",
   "execution_count": 21,
   "id": "82bf9de5-46b4-4b94-9cfc-1f073726803a",
   "metadata": {},
   "outputs": [],
   "source": [
    "query = ('ALTER TABLE prescriptions ADD FOREIGN KEY (drug_name) REFERENCES drugs(drug_name)')\n",
    "mycursor.execute(query)"
   ]
  },
  {
   "cell_type": "code",
   "execution_count": 22,
   "id": "c0963448-0ff5-4b40-b326-0e81695ab7a7",
   "metadata": {},
   "outputs": [],
   "source": [
    "query = ('ALTER TABLE adverse_reactions ADD FOREIGN KEY (drug_name_1) REFERENCES drugs(drug_name)')\n",
    "mycursor.execute(query)"
   ]
  },
  {
   "cell_type": "code",
   "execution_count": 23,
   "id": "16cb2178-676e-4645-b59c-71581b89a0ac",
   "metadata": {},
   "outputs": [],
   "source": [
    "query = ('ALTER TABLE adverse_reactions ADD FOREIGN KEY (drug_name_2) REFERENCES drugs(drug_name)')\n",
    "mycursor.execute(query)"
   ]
  },
  {
   "cell_type": "code",
   "execution_count": 24,
   "id": "ba2e9626",
   "metadata": {},
   "outputs": [],
   "source": [
    "query = ('ALTER TABLE alerts ADD FOREIGN KEY (patient_id) REFERENCES patients(ssn)')\n",
    "mycursor.execute(query)"
   ]
  },
  {
   "cell_type": "code",
   "execution_count": 25,
   "id": "9f8d1a9b",
   "metadata": {},
   "outputs": [],
   "source": [
    "query = ('ALTER TABLE alerts ADD FOREIGN KEY (physician_id) REFERENCES physicians(SSN)')\n",
    "mycursor.execute(query)"
   ]
  },
  {
   "cell_type": "code",
   "execution_count": 26,
   "id": "9b005a4b-4e04-4e63-9574-40b7a4113552",
   "metadata": {
    "tags": []
   },
   "outputs": [],
   "source": [
    "mycursor.execute(\"CREATE INDEX idx_prescriptions ON prescriptions(patient_id,drug_name)\")"
   ]
  },
  {
   "cell_type": "code",
   "execution_count": 27,
   "id": "fae5a737-0b84-4ef0-b0cc-51e8190aaf43",
   "metadata": {},
   "outputs": [],
   "source": [
    "query = ('ALTER TABLE alerts ADD FOREIGN KEY (patient_id,drug1) REFERENCES prescriptions(patient_id,drug_name)')\n",
    "mycursor.execute(query)"
   ]
  },
  {
   "cell_type": "code",
   "execution_count": 28,
   "id": "7c3395af-457e-45b1-a1db-4e532c752d89",
   "metadata": {},
   "outputs": [],
   "source": [
    "query = ('ALTER TABLE alerts ADD FOREIGN KEY (patient_id,drug2) REFERENCES prescriptions(patient_id,drug_name)')\n",
    "mycursor.execute(query)"
   ]
  },
  {
   "cell_type": "code",
   "execution_count": 29,
   "id": "d2f2317d-a384-40fe-a36c-b306381d5ade",
   "metadata": {},
   "outputs": [],
   "source": [
    "query = ('ALTER TABLE pharmacy_fills ADD FOREIGN KEY (prescription_id) REFERENCES prescriptions(id)')\n",
    "mycursor.execute(query)"
   ]
  },
  {
   "cell_type": "code",
   "execution_count": 30,
   "id": "231a1828-624e-43db-ac14-78fd20acd904",
   "metadata": {},
   "outputs": [],
   "source": [
    "query = ('ALTER TABLE pharmacy_fills ADD FOREIGN KEY (pharmacy_id) REFERENCES pharmacies(id)')\n",
    "mycursor.execute(query)"
   ]
  },
  {
   "cell_type": "code",
   "execution_count": 31,
   "id": "c0026509-edf8-499e-81ad-983e2d968c35",
   "metadata": {},
   "outputs": [],
   "source": [
    "query = ('ALTER TABLE contracts ADD FOREIGN KEY (pharm_company_id) REFERENCES companies(id)')\n",
    "mycursor.execute(query)"
   ]
  },
  {
   "cell_type": "code",
   "execution_count": 32,
   "id": "47aaecc2-ebcd-4335-95c0-fe2660932b8d",
   "metadata": {},
   "outputs": [],
   "source": [
    "query = ('ALTER TABLE contracts ADD FOREIGN KEY (pharmacy_id) REFERENCES pharmacies(id)')\n",
    "mycursor.execute(query)"
   ]
  },
  {
   "cell_type": "code",
   "execution_count": 33,
   "id": "90e55861-e3da-410c-9e36-4932c94fe628",
   "metadata": {},
   "outputs": [],
   "source": [
    "query = ('ALTER TABLE contracts ADD FOREIGN KEY (drug) REFERENCES drugs(drug_name)')\n",
    "mycursor.execute(query)"
   ]
  },
  {
   "cell_type": "markdown",
   "id": "22fb785e-cc1b-493a-8f89-b77c4efbc7d5",
   "metadata": {},
   "source": [
    "# the 6th step is Data Insertion Code"
   ]
  },
  {
   "cell_type": "code",
   "execution_count": 34,
   "id": "30e1b49f-5fba-4b48-95a3-bbb605067267",
   "metadata": {
    "tags": []
   },
   "outputs": [
    {
     "data": {
      "text/html": [
       "<div>\n",
       "<style scoped>\n",
       "    .dataframe tbody tr th:only-of-type {\n",
       "        vertical-align: middle;\n",
       "    }\n",
       "\n",
       "    .dataframe tbody tr th {\n",
       "        vertical-align: top;\n",
       "    }\n",
       "\n",
       "    .dataframe thead th {\n",
       "        text-align: right;\n",
       "    }\n",
       "</style>\n",
       "<table border=\"1\" class=\"dataframe\">\n",
       "  <thead>\n",
       "    <tr style=\"text-align: right;\">\n",
       "      <th></th>\n",
       "      <th>drug_id</th>\n",
       "      <th>drug_name</th>\n",
       "    </tr>\n",
       "  </thead>\n",
       "  <tbody>\n",
       "    <tr>\n",
       "      <th>0</th>\n",
       "      <td>1</td>\n",
       "      <td>Primalovir</td>\n",
       "    </tr>\n",
       "    <tr>\n",
       "      <th>1</th>\n",
       "      <td>2</td>\n",
       "      <td>Olanzanafine</td>\n",
       "    </tr>\n",
       "    <tr>\n",
       "      <th>2</th>\n",
       "      <td>3</td>\n",
       "      <td>Avafoxin</td>\n",
       "    </tr>\n",
       "    <tr>\n",
       "      <th>3</th>\n",
       "      <td>4</td>\n",
       "      <td>Quixiposide</td>\n",
       "    </tr>\n",
       "    <tr>\n",
       "      <th>4</th>\n",
       "      <td>5</td>\n",
       "      <td>Cleotrana</td>\n",
       "    </tr>\n",
       "  </tbody>\n",
       "</table>\n",
       "</div>"
      ],
      "text/plain": [
       "   drug_id     drug_name\n",
       "0        1    Primalovir\n",
       "1        2  Olanzanafine\n",
       "2        3      Avafoxin\n",
       "3        4   Quixiposide\n",
       "4        5     Cleotrana"
      ]
     },
     "execution_count": 34,
     "metadata": {},
     "output_type": "execute_result"
    }
   ],
   "source": [
    "data = pd.read_csv(\"/Users/emmasun/Desktop/DEMO/drugs.csv\")\n",
    "data.head()"
   ]
  },
  {
   "cell_type": "code",
   "execution_count": 35,
   "id": "a1b8bd1f-640e-438e-8abc-ee9e5088f97f",
   "metadata": {
    "tags": []
   },
   "outputs": [
    {
     "name": "stdout",
     "output_type": "stream",
     "text": [
      "Record inserted\n",
      "Record inserted\n",
      "Record inserted\n",
      "Record inserted\n",
      "Record inserted\n",
      "Record inserted\n",
      "Record inserted\n",
      "Record inserted\n",
      "Record inserted\n",
      "Record inserted\n"
     ]
    }
   ],
   "source": [
    "for i,row in data.iterrows():\n",
    "            sql = \"INSERT INTO drugs VALUES (%s,%s)\"\n",
    "            mycursor.execute(sql, tuple(row))\n",
    "            print(\"Record inserted\")\n",
    "            mydb.commit()"
   ]
  },
  {
   "cell_type": "code",
   "execution_count": 36,
   "id": "1ca1d8a8-e517-4dee-9d9a-f3343450e1d7",
   "metadata": {
    "tags": []
   },
   "outputs": [
    {
     "data": {
      "text/html": [
       "<div>\n",
       "<style scoped>\n",
       "    .dataframe tbody tr th:only-of-type {\n",
       "        vertical-align: middle;\n",
       "    }\n",
       "\n",
       "    .dataframe tbody tr th {\n",
       "        vertical-align: top;\n",
       "    }\n",
       "\n",
       "    .dataframe thead th {\n",
       "        text-align: right;\n",
       "    }\n",
       "</style>\n",
       "<table border=\"1\" class=\"dataframe\">\n",
       "  <thead>\n",
       "    <tr style=\"text-align: right;\">\n",
       "      <th></th>\n",
       "      <th>id</th>\n",
       "      <th>name</th>\n",
       "      <th>address</th>\n",
       "      <th>phone</th>\n",
       "    </tr>\n",
       "  </thead>\n",
       "  <tbody>\n",
       "    <tr>\n",
       "      <th>0</th>\n",
       "      <td>1</td>\n",
       "      <td>Springfield Pharmacy</td>\n",
       "      <td>123 Main St,  Springfield,  IL 62701</td>\n",
       "      <td>(217) 555-1234</td>\n",
       "    </tr>\n",
       "    <tr>\n",
       "      <th>1</th>\n",
       "      <td>2</td>\n",
       "      <td>Peachtree Meds</td>\n",
       "      <td>456 Elm St,  Atlanta, GA 30303</td>\n",
       "      <td>(404) 555-5678</td>\n",
       "    </tr>\n",
       "    <tr>\n",
       "      <th>2</th>\n",
       "      <td>3</td>\n",
       "      <td>Lone Star Drugs</td>\n",
       "      <td>789 Oak St,  Dallas, TX 75201</td>\n",
       "      <td>(214) 555-9101</td>\n",
       "    </tr>\n",
       "    <tr>\n",
       "      <th>3</th>\n",
       "      <td>4</td>\n",
       "      <td>Mile High Meds</td>\n",
       "      <td>101 Pine St, Denver, CO80202</td>\n",
       "      <td>(303) 555-1121</td>\n",
       "    </tr>\n",
       "    <tr>\n",
       "      <th>4</th>\n",
       "      <td>5</td>\n",
       "      <td>Emerald City Pharmacy</td>\n",
       "      <td>121 Spruce St,  Seattle,  WA 98101</td>\n",
       "      <td>(206) 555-1314</td>\n",
       "    </tr>\n",
       "  </tbody>\n",
       "</table>\n",
       "</div>"
      ],
      "text/plain": [
       "   id                    name                                address  \\\n",
       "0   1    Springfield Pharmacy   123 Main St,  Springfield,  IL 62701   \n",
       "1   2          Peachtree Meds         456 Elm St,  Atlanta, GA 30303   \n",
       "2   3         Lone Star Drugs          789 Oak St,  Dallas, TX 75201   \n",
       "3   4          Mile High Meds           101 Pine St, Denver, CO80202   \n",
       "4   5   Emerald City Pharmacy     121 Spruce St,  Seattle,  WA 98101   \n",
       "\n",
       "             phone  \n",
       "0   (217) 555-1234  \n",
       "1   (404) 555-5678  \n",
       "2   (214) 555-9101  \n",
       "3   (303) 555-1121  \n",
       "4   (206) 555-1314  "
      ]
     },
     "execution_count": 36,
     "metadata": {},
     "output_type": "execute_result"
    }
   ],
   "source": [
    "data = pd.read_csv(\"/Users/emmasun/Desktop/DEMO/pharmacies.csv\")\n",
    "data.head()"
   ]
  },
  {
   "cell_type": "code",
   "execution_count": 37,
   "id": "b3aecf18-22d8-4305-b669-6c4f2479d86d",
   "metadata": {
    "tags": []
   },
   "outputs": [
    {
     "name": "stdout",
     "output_type": "stream",
     "text": [
      "Record inserted\n",
      "Record inserted\n",
      "Record inserted\n",
      "Record inserted\n",
      "Record inserted\n",
      "Record inserted\n",
      "Record inserted\n",
      "Record inserted\n",
      "Record inserted\n",
      "Record inserted\n",
      "Record inserted\n",
      "Record inserted\n",
      "Record inserted\n",
      "Record inserted\n",
      "Record inserted\n"
     ]
    }
   ],
   "source": [
    "for i,row in data.iterrows():\n",
    "            sql = \"INSERT INTO pharmacies VALUES (%s,%s,%s,%s)\"\n",
    "            mycursor.execute(sql, tuple(row))\n",
    "            print(\"Record inserted\")\n",
    "            mydb.commit()"
   ]
  },
  {
   "cell_type": "code",
   "execution_count": 38,
   "id": "80105d79-7332-428e-9f13-3ac7f61ede13",
   "metadata": {
    "tags": []
   },
   "outputs": [
    {
     "data": {
      "text/html": [
       "<div>\n",
       "<style scoped>\n",
       "    .dataframe tbody tr th:only-of-type {\n",
       "        vertical-align: middle;\n",
       "    }\n",
       "\n",
       "    .dataframe tbody tr th {\n",
       "        vertical-align: top;\n",
       "    }\n",
       "\n",
       "    .dataframe thead th {\n",
       "        text-align: right;\n",
       "    }\n",
       "</style>\n",
       "<table border=\"1\" class=\"dataframe\">\n",
       "  <thead>\n",
       "    <tr style=\"text-align: right;\">\n",
       "      <th></th>\n",
       "      <th>SSN</th>\n",
       "      <th>name</th>\n",
       "      <th>primary_specialty</th>\n",
       "      <th>experience_years</th>\n",
       "    </tr>\n",
       "  </thead>\n",
       "  <tbody>\n",
       "    <tr>\n",
       "      <th>0</th>\n",
       "      <td>614-57-6885</td>\n",
       "      <td>Srinivasan</td>\n",
       "      <td>Cardiology</td>\n",
       "      <td>4</td>\n",
       "    </tr>\n",
       "    <tr>\n",
       "      <th>1</th>\n",
       "      <td>702-16-8749</td>\n",
       "      <td>Wu</td>\n",
       "      <td>Dermatology</td>\n",
       "      <td>10</td>\n",
       "    </tr>\n",
       "    <tr>\n",
       "      <th>2</th>\n",
       "      <td>571-13-9020</td>\n",
       "      <td>Mozart</td>\n",
       "      <td>Cardiology</td>\n",
       "      <td>0</td>\n",
       "    </tr>\n",
       "    <tr>\n",
       "      <th>3</th>\n",
       "      <td>718-27-0905</td>\n",
       "      <td>Einstein</td>\n",
       "      <td>Psychiatry</td>\n",
       "      <td>29</td>\n",
       "    </tr>\n",
       "    <tr>\n",
       "      <th>4</th>\n",
       "      <td>230-12-3219</td>\n",
       "      <td>El Said</td>\n",
       "      <td>Psychiatry</td>\n",
       "      <td>12</td>\n",
       "    </tr>\n",
       "  </tbody>\n",
       "</table>\n",
       "</div>"
      ],
      "text/plain": [
       "           SSN        name primary_specialty  experience_years\n",
       "0  614-57-6885  Srinivasan        Cardiology                 4\n",
       "1  702-16-8749          Wu       Dermatology                10\n",
       "2  571-13-9020      Mozart        Cardiology                 0\n",
       "3  718-27-0905    Einstein        Psychiatry                29\n",
       "4  230-12-3219     El Said        Psychiatry                12"
      ]
     },
     "execution_count": 38,
     "metadata": {},
     "output_type": "execute_result"
    }
   ],
   "source": [
    "data = pd.read_csv(\"/Users/emmasun/Desktop/DEMO/physicians.csv\")\n",
    "data.head()"
   ]
  },
  {
   "cell_type": "code",
   "execution_count": 39,
   "id": "a31a2883-5706-4187-a926-e79c03887997",
   "metadata": {
    "tags": []
   },
   "outputs": [
    {
     "name": "stdout",
     "output_type": "stream",
     "text": [
      "Record inserted\n",
      "Record inserted\n",
      "Record inserted\n",
      "Record inserted\n",
      "Record inserted\n",
      "Record inserted\n",
      "Record inserted\n",
      "Record inserted\n",
      "Record inserted\n",
      "Record inserted\n",
      "Record inserted\n",
      "Record inserted\n"
     ]
    }
   ],
   "source": [
    "for i,row in data.iterrows():\n",
    "            sql = \"INSERT INTO physicians VALUES (%s,%s,%s,%s)\"\n",
    "            mycursor.execute(sql, tuple(row))\n",
    "            print(\"Record inserted\")\n",
    "            mydb.commit()"
   ]
  },
  {
   "cell_type": "code",
   "execution_count": 40,
   "id": "704fbcc8-995e-4559-9470-ac99d02fdb25",
   "metadata": {},
   "outputs": [
    {
     "data": {
      "text/html": [
       "<div>\n",
       "<style scoped>\n",
       "    .dataframe tbody tr th:only-of-type {\n",
       "        vertical-align: middle;\n",
       "    }\n",
       "\n",
       "    .dataframe tbody tr th {\n",
       "        vertical-align: top;\n",
       "    }\n",
       "\n",
       "    .dataframe thead th {\n",
       "        text-align: right;\n",
       "    }\n",
       "</style>\n",
       "<table border=\"1\" class=\"dataframe\">\n",
       "  <thead>\n",
       "    <tr style=\"text-align: right;\">\n",
       "      <th></th>\n",
       "      <th>id</th>\n",
       "      <th>name</th>\n",
       "      <th>address</th>\n",
       "      <th>contact_phone</th>\n",
       "      <th>contact_name</th>\n",
       "    </tr>\n",
       "  </thead>\n",
       "  <tbody>\n",
       "    <tr>\n",
       "      <th>0</th>\n",
       "      <td>1</td>\n",
       "      <td>Goodrx</td>\n",
       "      <td>123 Main St, San Francisco, CA</td>\n",
       "      <td>123-456-7890</td>\n",
       "      <td>Holly Jolly</td>\n",
       "    </tr>\n",
       "    <tr>\n",
       "      <th>1</th>\n",
       "      <td>2</td>\n",
       "      <td>PHARMASEE</td>\n",
       "      <td>456 Elm St, New York, NY</td>\n",
       "      <td>234-567-8901</td>\n",
       "      <td>Faker Maker</td>\n",
       "    </tr>\n",
       "    <tr>\n",
       "      <th>2</th>\n",
       "      <td>3</td>\n",
       "      <td>DRUGXO</td>\n",
       "      <td>789 Maple St, Los Angeles, CA</td>\n",
       "      <td>345-678-9012</td>\n",
       "      <td>Silly Putty</td>\n",
       "    </tr>\n",
       "    <tr>\n",
       "      <th>3</th>\n",
       "      <td>4</td>\n",
       "      <td>Pharmachoice</td>\n",
       "      <td>101 Pine St, Chicago, IL</td>\n",
       "      <td>456-789-0123</td>\n",
       "      <td>Connie Honey</td>\n",
       "    </tr>\n",
       "    <tr>\n",
       "      <th>4</th>\n",
       "      <td>5</td>\n",
       "      <td>Castox</td>\n",
       "      <td>234 Oak St, Houston, TX</td>\n",
       "      <td>567-890-1234</td>\n",
       "      <td>Laxmi Kant Sheth</td>\n",
       "    </tr>\n",
       "  </tbody>\n",
       "</table>\n",
       "</div>"
      ],
      "text/plain": [
       "   id          name                         address contact_phone  \\\n",
       "0   1        Goodrx  123 Main St, San Francisco, CA  123-456-7890   \n",
       "1   2     PHARMASEE        456 Elm St, New York, NY  234-567-8901   \n",
       "2   3        DRUGXO   789 Maple St, Los Angeles, CA  345-678-9012   \n",
       "3   4  Pharmachoice        101 Pine St, Chicago, IL  456-789-0123   \n",
       "4   5        Castox         234 Oak St, Houston, TX  567-890-1234   \n",
       "\n",
       "       contact_name  \n",
       "0       Holly Jolly  \n",
       "1       Faker Maker  \n",
       "2       Silly Putty  \n",
       "3      Connie Honey  \n",
       "4  Laxmi Kant Sheth  "
      ]
     },
     "execution_count": 40,
     "metadata": {},
     "output_type": "execute_result"
    }
   ],
   "source": [
    "data = pd.read_csv(\"/Users/emmasun/Desktop/DEMO/companies.csv\")\n",
    "data.head()"
   ]
  },
  {
   "cell_type": "code",
   "execution_count": 41,
   "id": "946e138d-b095-467f-b9cc-807851b07edf",
   "metadata": {},
   "outputs": [
    {
     "name": "stdout",
     "output_type": "stream",
     "text": [
      "Record inserted\n",
      "Record inserted\n",
      "Record inserted\n",
      "Record inserted\n",
      "Record inserted\n",
      "Record inserted\n",
      "Record inserted\n",
      "Record inserted\n",
      "Record inserted\n",
      "Record inserted\n"
     ]
    }
   ],
   "source": [
    "for i,row in data.iterrows():\n",
    "            sql = \"INSERT INTO companies VALUES (%s,%s,%s,%s,%s)\"\n",
    "            mycursor.execute(sql, tuple(row))\n",
    "            print(\"Record inserted\")\n",
    "            mydb.commit()"
   ]
  },
  {
   "cell_type": "code",
   "execution_count": 42,
   "id": "bf7baa82-db50-409e-a7ba-2e29a8c1b5d0",
   "metadata": {},
   "outputs": [
    {
     "data": {
      "text/html": [
       "<div>\n",
       "<style scoped>\n",
       "    .dataframe tbody tr th:only-of-type {\n",
       "        vertical-align: middle;\n",
       "    }\n",
       "\n",
       "    .dataframe tbody tr th {\n",
       "        vertical-align: top;\n",
       "    }\n",
       "\n",
       "    .dataframe thead th {\n",
       "        text-align: right;\n",
       "    }\n",
       "</style>\n",
       "<table border=\"1\" class=\"dataframe\">\n",
       "  <thead>\n",
       "    <tr style=\"text-align: right;\">\n",
       "      <th></th>\n",
       "      <th>ssn</th>\n",
       "      <th>name</th>\n",
       "      <th>address</th>\n",
       "      <th>birthdate</th>\n",
       "      <th>physician_id</th>\n",
       "    </tr>\n",
       "  </thead>\n",
       "  <tbody>\n",
       "    <tr>\n",
       "      <th>0</th>\n",
       "      <td>478-34-0781</td>\n",
       "      <td>Florance Saiz</td>\n",
       "      <td>7 Fair Oaks Place</td>\n",
       "      <td>1988-11-03T23:25:38Z</td>\n",
       "      <td>614-57-6885</td>\n",
       "    </tr>\n",
       "    <tr>\n",
       "      <th>1</th>\n",
       "      <td>885-94-4721</td>\n",
       "      <td>Merry Di Pietro</td>\n",
       "      <td>1 Old Shore Court</td>\n",
       "      <td>1991-02-07T22:00:41Z</td>\n",
       "      <td>702-16-8749</td>\n",
       "    </tr>\n",
       "    <tr>\n",
       "      <th>2</th>\n",
       "      <td>777-39-3296</td>\n",
       "      <td>Myron Cottem</td>\n",
       "      <td>75875 Fulton Crossing</td>\n",
       "      <td>1986-02-20T04:43:29Z</td>\n",
       "      <td>718-27-0905</td>\n",
       "    </tr>\n",
       "    <tr>\n",
       "      <th>3</th>\n",
       "      <td>227-08-7452</td>\n",
       "      <td>Bearnard Remer</td>\n",
       "      <td>18669 Heffernan Point</td>\n",
       "      <td>2008-01-09T05:34:30Z</td>\n",
       "      <td>230-12-3219</td>\n",
       "    </tr>\n",
       "    <tr>\n",
       "      <th>4</th>\n",
       "      <td>805-15-2755</td>\n",
       "      <td>Roxana Worster</td>\n",
       "      <td>54 Hudson Junction</td>\n",
       "      <td>1982-11-12T18:11:55Z</td>\n",
       "      <td>163-50-5535</td>\n",
       "    </tr>\n",
       "  </tbody>\n",
       "</table>\n",
       "</div>"
      ],
      "text/plain": [
       "           ssn             name                address             birthdate  \\\n",
       "0  478-34-0781    Florance Saiz      7 Fair Oaks Place  1988-11-03T23:25:38Z   \n",
       "1  885-94-4721  Merry Di Pietro      1 Old Shore Court  1991-02-07T22:00:41Z   \n",
       "2  777-39-3296     Myron Cottem  75875 Fulton Crossing  1986-02-20T04:43:29Z   \n",
       "3  227-08-7452   Bearnard Remer  18669 Heffernan Point  2008-01-09T05:34:30Z   \n",
       "4  805-15-2755   Roxana Worster     54 Hudson Junction  1982-11-12T18:11:55Z   \n",
       "\n",
       "  physician_id  \n",
       "0  614-57-6885  \n",
       "1  702-16-8749  \n",
       "2  718-27-0905  \n",
       "3  230-12-3219  \n",
       "4  163-50-5535  "
      ]
     },
     "execution_count": 42,
     "metadata": {},
     "output_type": "execute_result"
    }
   ],
   "source": [
    "data = pd.read_csv(\"/Users/emmasun/Desktop/DEMO/patients.csv\")\n",
    "data.head()"
   ]
  },
  {
   "cell_type": "code",
   "execution_count": 43,
   "id": "2e0748bf-533e-4a9f-a95f-dc096eec7bed",
   "metadata": {
    "tags": []
   },
   "outputs": [
    {
     "name": "stdout",
     "output_type": "stream",
     "text": [
      "Record inserted\n",
      "Record inserted\n",
      "Record inserted\n",
      "Record inserted\n",
      "Record inserted\n",
      "Record inserted\n",
      "Record inserted\n",
      "Record inserted\n",
      "Record inserted\n",
      "Record inserted\n",
      "Record inserted\n",
      "Record inserted\n"
     ]
    }
   ],
   "source": [
    "for _, row in data.iterrows():\n",
    "    sql = \"INSERT INTO patients (ssn, name, address, birthdate, physician_id) VALUES (%s, %s, %s, %s, %s)\"\n",
    "    \n",
    "    original_date = row['birthdate']\n",
    "    date_time = original_date.split('T')\n",
    "    date_str = date_time[0]\n",
    "    time_str = date_time[1][:-1]\n",
    "    \n",
    "    mycursor.execute(sql, (row['ssn'], row['name'], row['address'], f\"{date_str} {time_str}\", row['physician_id']))\n",
    "    print(\"Record inserted\")\n",
    "    mydb.commit()"
   ]
  },
  {
   "cell_type": "code",
   "execution_count": 44,
   "id": "d7c38832-0f1e-4339-b766-4210c0dac6ce",
   "metadata": {},
   "outputs": [
    {
     "data": {
      "text/html": [
       "<div>\n",
       "<style scoped>\n",
       "    .dataframe tbody tr th:only-of-type {\n",
       "        vertical-align: middle;\n",
       "    }\n",
       "\n",
       "    .dataframe tbody tr th {\n",
       "        vertical-align: top;\n",
       "    }\n",
       "\n",
       "    .dataframe thead th {\n",
       "        text-align: right;\n",
       "    }\n",
       "</style>\n",
       "<table border=\"1\" class=\"dataframe\">\n",
       "  <thead>\n",
       "    <tr style=\"text-align: right;\">\n",
       "      <th></th>\n",
       "      <th>id</th>\n",
       "      <th>patient_id</th>\n",
       "      <th>physician_id</th>\n",
       "      <th>drug_name</th>\n",
       "      <th>date</th>\n",
       "      <th>quantity</th>\n",
       "    </tr>\n",
       "  </thead>\n",
       "  <tbody>\n",
       "    <tr>\n",
       "      <th>0</th>\n",
       "      <td>1</td>\n",
       "      <td>478-34-0781</td>\n",
       "      <td>614-57-6885</td>\n",
       "      <td>Avafoxin</td>\n",
       "      <td>3/11/2023</td>\n",
       "      <td>90</td>\n",
       "    </tr>\n",
       "    <tr>\n",
       "      <th>1</th>\n",
       "      <td>2</td>\n",
       "      <td>758-08-7274</td>\n",
       "      <td>118-66-5958</td>\n",
       "      <td>Cleotrana</td>\n",
       "      <td>3/12/2023</td>\n",
       "      <td>10</td>\n",
       "    </tr>\n",
       "    <tr>\n",
       "      <th>2</th>\n",
       "      <td>3</td>\n",
       "      <td>758-08-7274</td>\n",
       "      <td>118-66-5958</td>\n",
       "      <td>Primalovir</td>\n",
       "      <td>4/11/2023</td>\n",
       "      <td>20</td>\n",
       "    </tr>\n",
       "    <tr>\n",
       "      <th>3</th>\n",
       "      <td>4</td>\n",
       "      <td>758-08-7274</td>\n",
       "      <td>118-66-5958</td>\n",
       "      <td>Glucozepam Amcipentin</td>\n",
       "      <td>5/13/2023</td>\n",
       "      <td>12</td>\n",
       "    </tr>\n",
       "    <tr>\n",
       "      <th>4</th>\n",
       "      <td>5</td>\n",
       "      <td>303-13-5928</td>\n",
       "      <td>571-13-9020</td>\n",
       "      <td>Olanzanafine</td>\n",
       "      <td>5/24/2023</td>\n",
       "      <td>25</td>\n",
       "    </tr>\n",
       "  </tbody>\n",
       "</table>\n",
       "</div>"
      ],
      "text/plain": [
       "   id   patient_id physician_id              drug_name       date  quantity\n",
       "0   1  478-34-0781  614-57-6885               Avafoxin  3/11/2023        90\n",
       "1   2  758-08-7274  118-66-5958              Cleotrana  3/12/2023        10\n",
       "2   3  758-08-7274  118-66-5958             Primalovir  4/11/2023        20\n",
       "3   4  758-08-7274  118-66-5958  Glucozepam Amcipentin  5/13/2023        12\n",
       "4   5  303-13-5928  571-13-9020           Olanzanafine  5/24/2023        25"
      ]
     },
     "execution_count": 44,
     "metadata": {},
     "output_type": "execute_result"
    }
   ],
   "source": [
    "data = pd.read_csv(\"/Users/emmasun/Desktop/DEMO/prescriptions.csv\")\n",
    "data.head()"
   ]
  },
  {
   "cell_type": "code",
   "execution_count": 45,
   "id": "7d21443c-18af-46d9-a08d-a6a3d5831f29",
   "metadata": {},
   "outputs": [
    {
     "name": "stdout",
     "output_type": "stream",
     "text": [
      "Record inserted\n",
      "Record inserted\n",
      "Record inserted\n",
      "Record inserted\n",
      "Record inserted\n",
      "Record inserted\n",
      "Record inserted\n",
      "Record inserted\n",
      "Record inserted\n",
      "Record inserted\n",
      "Record inserted\n",
      "Record inserted\n",
      "Record inserted\n",
      "Record inserted\n",
      "Record inserted\n",
      "Record inserted\n"
     ]
    }
   ],
   "source": [
    "from datetime import datetime\n",
    "\n",
    "for i, row in data.iterrows():\n",
    "    \n",
    "    date_str = datetime.strptime(row['date'], '%m/%d/%Y').strftime('%Y-%m-%d')\n",
    "    sql = \"INSERT INTO prescriptions (id, patient_id, physician_id, drug_name, date, quantity) VALUES (%s, %s, %s, %s, %s, %s)\"\n",
    "    values = (row['id'], row['patient_id'], row['physician_id'], row['drug_name'], date_str, row['quantity'])\n",
    "    \n",
    "    mycursor.execute(sql, values)\n",
    "    print(\"Record inserted\")\n",
    "    mydb.commit()"
   ]
  },
  {
   "cell_type": "code",
   "execution_count": 46,
   "id": "5c77f5ac-c591-41f6-b403-7f85cc3bda79",
   "metadata": {},
   "outputs": [
    {
     "data": {
      "text/html": [
       "<div>\n",
       "<style scoped>\n",
       "    .dataframe tbody tr th:only-of-type {\n",
       "        vertical-align: middle;\n",
       "    }\n",
       "\n",
       "    .dataframe tbody tr th {\n",
       "        vertical-align: top;\n",
       "    }\n",
       "\n",
       "    .dataframe thead th {\n",
       "        text-align: right;\n",
       "    }\n",
       "</style>\n",
       "<table border=\"1\" class=\"dataframe\">\n",
       "  <thead>\n",
       "    <tr style=\"text-align: right;\">\n",
       "      <th></th>\n",
       "      <th>pharmacy_id</th>\n",
       "      <th>prescription_id</th>\n",
       "      <th>date</th>\n",
       "      <th>cost</th>\n",
       "    </tr>\n",
       "  </thead>\n",
       "  <tbody>\n",
       "    <tr>\n",
       "      <th>0</th>\n",
       "      <td>1</td>\n",
       "      <td>3</td>\n",
       "      <td>4/15/2023</td>\n",
       "      <td>60.53</td>\n",
       "    </tr>\n",
       "    <tr>\n",
       "      <th>1</th>\n",
       "      <td>3</td>\n",
       "      <td>4</td>\n",
       "      <td>5/16/2023</td>\n",
       "      <td>41.50</td>\n",
       "    </tr>\n",
       "    <tr>\n",
       "      <th>2</th>\n",
       "      <td>1</td>\n",
       "      <td>2</td>\n",
       "      <td>3/12/2023</td>\n",
       "      <td>18.00</td>\n",
       "    </tr>\n",
       "    <tr>\n",
       "      <th>3</th>\n",
       "      <td>8</td>\n",
       "      <td>1</td>\n",
       "      <td>3/12/2023</td>\n",
       "      <td>146.53</td>\n",
       "    </tr>\n",
       "    <tr>\n",
       "      <th>4</th>\n",
       "      <td>10</td>\n",
       "      <td>5</td>\n",
       "      <td>5/26/2023</td>\n",
       "      <td>47.50</td>\n",
       "    </tr>\n",
       "  </tbody>\n",
       "</table>\n",
       "</div>"
      ],
      "text/plain": [
       "   pharmacy_id  prescription_id       date    cost\n",
       "0            1                3  4/15/2023   60.53\n",
       "1            3                4  5/16/2023   41.50\n",
       "2            1                2  3/12/2023   18.00\n",
       "3            8                1  3/12/2023  146.53\n",
       "4           10                5  5/26/2023   47.50"
      ]
     },
     "execution_count": 46,
     "metadata": {},
     "output_type": "execute_result"
    }
   ],
   "source": [
    "data = pd.read_csv(\"/Users/emmasun/Desktop/DEMO/pharmacy_fills.csv\")\n",
    "data.head()"
   ]
  },
  {
   "cell_type": "code",
   "execution_count": 47,
   "id": "38cf414b-25cc-4bbc-ae36-b1cb55d59045",
   "metadata": {
    "tags": []
   },
   "outputs": [
    {
     "name": "stdout",
     "output_type": "stream",
     "text": [
      "Record inserted\n",
      "Record inserted\n",
      "Record inserted\n",
      "Record inserted\n",
      "Record inserted\n",
      "Record inserted\n",
      "Record inserted\n",
      "Record inserted\n",
      "Record inserted\n",
      "Record inserted\n",
      "Record inserted\n",
      "Record inserted\n",
      "Record inserted\n",
      "Record inserted\n",
      "Record inserted\n",
      "Record inserted\n"
     ]
    }
   ],
   "source": [
    "for i, row in data.iterrows():\n",
    "    \n",
    "    date_str = datetime.strptime(row['date'], '%m/%d/%Y').strftime('%Y-%m-%d')\n",
    "    sql = \"INSERT INTO pharmacy_fills (pharmacy_id, prescription_id, date, cost) VALUES (%s, %s, %s, %s)\"\n",
    "    values = (row['pharmacy_id'], row['prescription_id'], date_str, row['cost'])\n",
    "    \n",
    "    mycursor.execute(sql, values)\n",
    "    print(\"Record inserted\")\n",
    "    mydb.commit()"
   ]
  },
  {
   "cell_type": "code",
   "execution_count": 48,
   "id": "4762aeba-70d7-468d-8f97-a83b1cb927bf",
   "metadata": {},
   "outputs": [
    {
     "data": {
      "text/html": [
       "<div>\n",
       "<style scoped>\n",
       "    .dataframe tbody tr th:only-of-type {\n",
       "        vertical-align: middle;\n",
       "    }\n",
       "\n",
       "    .dataframe tbody tr th {\n",
       "        vertical-align: top;\n",
       "    }\n",
       "\n",
       "    .dataframe thead th {\n",
       "        text-align: right;\n",
       "    }\n",
       "</style>\n",
       "<table border=\"1\" class=\"dataframe\">\n",
       "  <thead>\n",
       "    <tr style=\"text-align: right;\">\n",
       "      <th></th>\n",
       "      <th>drug_name_1</th>\n",
       "      <th>drug_name_2</th>\n",
       "    </tr>\n",
       "  </thead>\n",
       "  <tbody>\n",
       "    <tr>\n",
       "      <th>0</th>\n",
       "      <td>Cleotrana</td>\n",
       "      <td>Kanulin</td>\n",
       "    </tr>\n",
       "    <tr>\n",
       "      <th>1</th>\n",
       "      <td>Primalovir</td>\n",
       "      <td>Abnazole Toleluble</td>\n",
       "    </tr>\n",
       "    <tr>\n",
       "      <th>2</th>\n",
       "      <td>Primalovir</td>\n",
       "      <td>Olanzanafine</td>\n",
       "    </tr>\n",
       "    <tr>\n",
       "      <th>3</th>\n",
       "      <td>Olanzanafine</td>\n",
       "      <td>Glucozepam Amcipentin</td>\n",
       "    </tr>\n",
       "    <tr>\n",
       "      <th>4</th>\n",
       "      <td>Avafoxin</td>\n",
       "      <td>Kanulin</td>\n",
       "    </tr>\n",
       "  </tbody>\n",
       "</table>\n",
       "</div>"
      ],
      "text/plain": [
       "    drug_name_1            drug_name_2\n",
       "0     Cleotrana                Kanulin\n",
       "1    Primalovir     Abnazole Toleluble\n",
       "2    Primalovir           Olanzanafine\n",
       "3  Olanzanafine  Glucozepam Amcipentin\n",
       "4      Avafoxin                Kanulin"
      ]
     },
     "execution_count": 48,
     "metadata": {},
     "output_type": "execute_result"
    }
   ],
   "source": [
    "data = pd.read_csv(\"/Users/emmasun/Desktop/DEMO/adverse_reactions.csv\")\n",
    "data.head()"
   ]
  },
  {
   "cell_type": "code",
   "execution_count": 49,
   "id": "1903b202-6233-4ece-b0db-4c7d323b0502",
   "metadata": {},
   "outputs": [
    {
     "name": "stdout",
     "output_type": "stream",
     "text": [
      "Record inserted\n",
      "Record inserted\n",
      "Record inserted\n",
      "Record inserted\n",
      "Record inserted\n",
      "Record inserted\n",
      "Record inserted\n",
      "Record inserted\n",
      "Record inserted\n"
     ]
    }
   ],
   "source": [
    "for i,row in data.iterrows():\n",
    "            sql = \"INSERT INTO adverse_reactions VALUES (%s,%s)\"\n",
    "            mycursor.execute(sql, tuple(row))\n",
    "            print(\"Record inserted\")\n",
    "            mydb.commit()"
   ]
  },
  {
   "cell_type": "code",
   "execution_count": 50,
   "id": "c4ea22ff-dda3-483d-b59e-8e5b93273a9a",
   "metadata": {},
   "outputs": [
    {
     "data": {
      "text/html": [
       "<div>\n",
       "<style scoped>\n",
       "    .dataframe tbody tr th:only-of-type {\n",
       "        vertical-align: middle;\n",
       "    }\n",
       "\n",
       "    .dataframe tbody tr th {\n",
       "        vertical-align: top;\n",
       "    }\n",
       "\n",
       "    .dataframe thead th {\n",
       "        text-align: right;\n",
       "    }\n",
       "</style>\n",
       "<table border=\"1\" class=\"dataframe\">\n",
       "  <thead>\n",
       "    <tr style=\"text-align: right;\">\n",
       "      <th></th>\n",
       "      <th>patient_id</th>\n",
       "      <th>physician_id</th>\n",
       "      <th>alert_date</th>\n",
       "      <th>drug1</th>\n",
       "      <th>drug2</th>\n",
       "    </tr>\n",
       "  </thead>\n",
       "  <tbody>\n",
       "    <tr>\n",
       "      <th>0</th>\n",
       "      <td>303-13-5928</td>\n",
       "      <td>571-13-9020</td>\n",
       "      <td>5/24/2023</td>\n",
       "      <td>Olanzanafine</td>\n",
       "      <td>Primalovir</td>\n",
       "    </tr>\n",
       "    <tr>\n",
       "      <th>1</th>\n",
       "      <td>303-13-5928</td>\n",
       "      <td>571-13-9020</td>\n",
       "      <td>5/24/2023</td>\n",
       "      <td>Primalovir</td>\n",
       "      <td>Abnazole Toleluble</td>\n",
       "    </tr>\n",
       "    <tr>\n",
       "      <th>2</th>\n",
       "      <td>303-13-5928</td>\n",
       "      <td>571-13-9020</td>\n",
       "      <td>6/22/2023</td>\n",
       "      <td>Olanzanafine</td>\n",
       "      <td>Glucozepam Amcipentin</td>\n",
       "    </tr>\n",
       "    <tr>\n",
       "      <th>3</th>\n",
       "      <td>478-34-0781</td>\n",
       "      <td>614-57-6885</td>\n",
       "      <td>9/17/2023</td>\n",
       "      <td>Avafoxin</td>\n",
       "      <td>Quixiposide</td>\n",
       "    </tr>\n",
       "    <tr>\n",
       "      <th>4</th>\n",
       "      <td>501-47-2038</td>\n",
       "      <td>156-28-1945</td>\n",
       "      <td>9/22/2023</td>\n",
       "      <td>Cleotrana</td>\n",
       "      <td>Avafoxin</td>\n",
       "    </tr>\n",
       "  </tbody>\n",
       "</table>\n",
       "</div>"
      ],
      "text/plain": [
       "    patient_id physician_id alert_date         drug1                  drug2\n",
       "0  303-13-5928  571-13-9020  5/24/2023  Olanzanafine             Primalovir\n",
       "1  303-13-5928  571-13-9020  5/24/2023    Primalovir     Abnazole Toleluble\n",
       "2  303-13-5928  571-13-9020  6/22/2023  Olanzanafine  Glucozepam Amcipentin\n",
       "3  478-34-0781  614-57-6885  9/17/2023      Avafoxin            Quixiposide\n",
       "4  501-47-2038  156-28-1945  9/22/2023     Cleotrana               Avafoxin"
      ]
     },
     "execution_count": 50,
     "metadata": {},
     "output_type": "execute_result"
    }
   ],
   "source": [
    "data = pd.read_csv(\"/Users/emmasun/Desktop/DEMO/alerts.csv\")\n",
    "data.head()"
   ]
  },
  {
   "cell_type": "code",
   "execution_count": 51,
   "id": "d1cd91ca-cfa5-4b1a-9185-4fa660c9b723",
   "metadata": {},
   "outputs": [
    {
     "name": "stdout",
     "output_type": "stream",
     "text": [
      "Record inserted\n",
      "Record inserted\n",
      "Record inserted\n",
      "Record inserted\n",
      "Record inserted\n",
      "Record inserted\n",
      "Record inserted\n"
     ]
    }
   ],
   "source": [
    "for i, row in data.iterrows():\n",
    "    \n",
    "    date_str = datetime.strptime(row['alert_date'], '%m/%d/%Y').strftime('%Y-%m-%d')\n",
    "    sql = \"INSERT INTO alerts (patient_id, physician_id, alert_date, drug1, drug2) VALUES (%s, %s, %s, %s, %s)\"\n",
    "    values = (row['patient_id'], row['physician_id'], date_str, row['drug1'], row['drug2'])\n",
    "    \n",
    "    mycursor.execute(sql, values)\n",
    "    print(\"Record inserted\")\n",
    "    mydb.commit()"
   ]
  },
  {
   "cell_type": "code",
   "execution_count": 52,
   "id": "d0a4feb6-e396-4c74-9862-303b7c2b2a06",
   "metadata": {},
   "outputs": [
    {
     "data": {
      "text/html": [
       "<div>\n",
       "<style scoped>\n",
       "    .dataframe tbody tr th:only-of-type {\n",
       "        vertical-align: middle;\n",
       "    }\n",
       "\n",
       "    .dataframe tbody tr th {\n",
       "        vertical-align: top;\n",
       "    }\n",
       "\n",
       "    .dataframe thead th {\n",
       "        text-align: right;\n",
       "    }\n",
       "</style>\n",
       "<table border=\"1\" class=\"dataframe\">\n",
       "  <thead>\n",
       "    <tr style=\"text-align: right;\">\n",
       "      <th></th>\n",
       "      <th>Contract_Id</th>\n",
       "      <th>drug</th>\n",
       "      <th>dosage</th>\n",
       "      <th>pharmacy_id</th>\n",
       "      <th>pharm_company_id</th>\n",
       "      <th>quantity</th>\n",
       "      <th>date</th>\n",
       "      <th>price</th>\n",
       "    </tr>\n",
       "  </thead>\n",
       "  <tbody>\n",
       "    <tr>\n",
       "      <th>0</th>\n",
       "      <td>1</td>\n",
       "      <td>Cleotrana</td>\n",
       "      <td>50</td>\n",
       "      <td>5</td>\n",
       "      <td>2</td>\n",
       "      <td>40</td>\n",
       "      <td>10/3/2023</td>\n",
       "      <td>100.0</td>\n",
       "    </tr>\n",
       "    <tr>\n",
       "      <th>1</th>\n",
       "      <td>2</td>\n",
       "      <td>Primalovir</td>\n",
       "      <td>500</td>\n",
       "      <td>5</td>\n",
       "      <td>10</td>\n",
       "      <td>20</td>\n",
       "      <td>9/26/2023</td>\n",
       "      <td>40.5</td>\n",
       "    </tr>\n",
       "    <tr>\n",
       "      <th>2</th>\n",
       "      <td>3</td>\n",
       "      <td>Kanulin</td>\n",
       "      <td>1000</td>\n",
       "      <td>4</td>\n",
       "      <td>9</td>\n",
       "      <td>20</td>\n",
       "      <td>9/20/2023</td>\n",
       "      <td>10.5</td>\n",
       "    </tr>\n",
       "    <tr>\n",
       "      <th>3</th>\n",
       "      <td>4</td>\n",
       "      <td>Olanzanafine</td>\n",
       "      <td>50</td>\n",
       "      <td>6</td>\n",
       "      <td>3</td>\n",
       "      <td>80</td>\n",
       "      <td>9/24/2023</td>\n",
       "      <td>150.0</td>\n",
       "    </tr>\n",
       "    <tr>\n",
       "      <th>4</th>\n",
       "      <td>5</td>\n",
       "      <td>Avafoxin</td>\n",
       "      <td>5</td>\n",
       "      <td>15</td>\n",
       "      <td>5</td>\n",
       "      <td>30</td>\n",
       "      <td>9/29/2023</td>\n",
       "      <td>18.0</td>\n",
       "    </tr>\n",
       "  </tbody>\n",
       "</table>\n",
       "</div>"
      ],
      "text/plain": [
       "   Contract_Id          drug  dosage  pharmacy_id  pharm_company_id  quantity  \\\n",
       "0            1     Cleotrana      50            5                 2        40   \n",
       "1            2    Primalovir     500            5                10        20   \n",
       "2            3       Kanulin    1000            4                 9        20   \n",
       "3            4  Olanzanafine      50            6                 3        80   \n",
       "4            5      Avafoxin       5           15                 5        30   \n",
       "\n",
       "        date  price  \n",
       "0  10/3/2023  100.0  \n",
       "1  9/26/2023   40.5  \n",
       "2  9/20/2023   10.5  \n",
       "3  9/24/2023  150.0  \n",
       "4  9/29/2023   18.0  "
      ]
     },
     "execution_count": 52,
     "metadata": {},
     "output_type": "execute_result"
    }
   ],
   "source": [
    "data = pd.read_csv(\"/Users/emmasun/Desktop/DEMO/contracts.csv\")\n",
    "data.head()"
   ]
  },
  {
   "cell_type": "code",
   "execution_count": 53,
   "id": "36278c3e-73da-435e-b011-d44032cef854",
   "metadata": {},
   "outputs": [
    {
     "name": "stdout",
     "output_type": "stream",
     "text": [
      "Record inserted\n",
      "Record inserted\n",
      "Record inserted\n",
      "Record inserted\n",
      "Record inserted\n",
      "Record inserted\n",
      "Record inserted\n",
      "Record inserted\n",
      "Record inserted\n",
      "Record inserted\n",
      "Record inserted\n",
      "Record inserted\n",
      "Record inserted\n",
      "Record inserted\n",
      "Record inserted\n",
      "Record inserted\n",
      "Record inserted\n",
      "Record inserted\n"
     ]
    }
   ],
   "source": [
    "for i, row in data.iterrows():\n",
    "    \n",
    "    date_str = datetime.strptime(row['date'], '%m/%d/%Y').strftime('%Y-%m-%d')\n",
    "    sql = \"INSERT INTO contracts (Contract_Id, drug, dosage, pharmacy_id, pharm_company_id, quantity, date, price) VALUES (%s, %s, %s, %s, %s, %s, %s, %s)\"\n",
    "    values = (row['Contract_Id'], row['drug'],row['dosage'],row['pharmacy_id'],row['pharm_company_id'],row['quantity'], date_str, row['price'])\n",
    "    \n",
    "    mycursor.execute(sql, values)\n",
    "    print(\"Record inserted\")\n",
    "    mydb.commit()"
   ]
  },
  {
   "cell_type": "markdown",
   "id": "ca4133b4-b551-49aa-953f-989872272665",
   "metadata": {},
   "source": [
    "# the 7th step is DB Schema Code 3 - stored procedure and trigger"
   ]
  },
  {
   "cell_type": "code",
   "execution_count": 54,
   "id": "6a69fe6d-2c86-4123-bf9b-d67dc8aefe43",
   "metadata": {
    "tags": []
   },
   "outputs": [],
   "source": [
    "# The hospital administration needs to retrieve from time to time primary specialty and years of experience of a given physician.\n",
    "# Write a stored procedure that can be used to do that."
   ]
  },
  {
   "cell_type": "code",
   "execution_count": 55,
   "id": "218b5247-7fac-48c0-b633-2e1411b93f22",
   "metadata": {},
   "outputs": [],
   "source": [
    "mycursor.execute(\"\"\"\n",
    "CREATE PROCEDURE physician_info(IN info_SSN VARCHAR(128), OUT info_specialty VARCHAR(255), OUT info_years INT)\n",
    "BEGIN\n",
    "    SELECT physicians.primary_specialty, physicians.experience_years\n",
    "    INTO info_specialty, info_years\n",
    "    FROM physicians\n",
    "    WHERE physicians.SSN = info_SSN;\n",
    "END;\n",
    "\"\"\")"
   ]
  },
  {
   "cell_type": "code",
   "execution_count": 56,
   "id": "052abce0-4ce4-45dd-ae19-d865782dcaf0",
   "metadata": {},
   "outputs": [],
   "source": [
    "# Write a trigger that inserts a tuple in the alerts table when a patient is prescribed a drug\n",
    "# (i.e., after inserting a new row in the prescriptions table) \n",
    "# that adversely interacts with a drug the patient was earlier prescribed. "
   ]
  },
  {
   "cell_type": "code",
   "execution_count": 57,
   "id": "bc602aa7-01af-4e26-a928-c8fd9241de84",
   "metadata": {},
   "outputs": [],
   "source": [
    "mycursor.execute(\"\"\"\n",
    "CREATE TRIGGER prescription_alert AFTER INSERT ON prescriptions\n",
    "FOR EACH ROW\n",
    "BEGIN\n",
    "   \n",
    "    DECLARE alertdrug_name VARCHAR(255);\n",
    "\n",
    "    SELECT prescriptions.drug_name INTO alertdrug_name\n",
    "    FROM prescriptions\n",
    "    JOIN adverse_reactions ON (NEW.drug_name = adverse_reactions.drug_name_1 AND prescriptions.drug_name = adverse_reactions.drug_name_2)\n",
    "                                OR (NEW.drug_name = adverse_reactions.drug_name_2 AND prescriptions.drug_name = adverse_reactions.drug_name_1)\n",
    "    WHERE NEW.patient_id = prescriptions.patient_id \n",
    "    AND prescriptions.drug_name != NEW.drug_name\n",
    "    AND prescriptions.date < NEW.date limit 1;\n",
    "\n",
    "    IF alertdrug_name IS NOT NULL THEN\n",
    "        INSERT INTO alerts (patient_id, physician_id, alert_date, drug1, drug2)\n",
    "        VALUES (NEW.patient_id, NEW.physician_id, NEW.date, alertdrug_name, NEW.drug_name);\n",
    "    END IF;\n",
    "END;\n",
    "\"\"\")"
   ]
  },
  {
   "cell_type": "markdown",
   "id": "bf324760-49ac-4185-b59f-b5c3468630e1",
   "metadata": {},
   "source": [
    "# the 8th step is to write SQL queries"
   ]
  },
  {
   "cell_type": "code",
   "execution_count": 79,
   "id": "c6524006-dd06-4260-b52a-b5b28a0d2c25",
   "metadata": {},
   "outputs": [],
   "source": [
    "# 1. Find the physicians (ssn) who have most prescribed drugs which caused alerts \n",
    "# (due to possible adverse interaction with a previously prescribed drug, not necessarily by the same physician)."
   ]
  },
  {
   "cell_type": "code",
   "execution_count": 80,
   "id": "78cc5980-9879-4a49-a727-173680c8d87f",
   "metadata": {},
   "outputs": [],
   "source": [
    "mycursor.execute(\"\"\"\n",
    "with alert_count as (select physicians.ssn as physicianssn, count(alerts.patient_id) as totalnumber\n",
    "                     from physicians \n",
    "                     join prescriptions on physicians.ssn = prescriptions.physician_id \n",
    "                     join alerts on prescriptions.patient_id = alerts.patient_id\n",
    "                     group by physicians.ssn)\n",
    "select alert_count.physicianssn\n",
    "from alert_count\n",
    "where alert_count.totalnumber = (select max(totalnumber) from alert_count)\n",
    "\"\"\")"
   ]
  },
  {
   "cell_type": "code",
   "execution_count": 81,
   "id": "30ba311a-71c7-492f-ab9e-51490726fc80",
   "metadata": {},
   "outputs": [
    {
     "name": "stdout",
     "output_type": "stream",
     "text": [
      "('571-13-9020',)\n",
      "('156-28-1945',)\n"
     ]
    }
   ],
   "source": [
    "for row in mycursor.fetchall():\n",
    "    print(row)"
   ]
  },
  {
   "cell_type": "code",
   "execution_count": 82,
   "id": "e47afdc7-d1b9-4034-a1be-7ee36282f27d",
   "metadata": {},
   "outputs": [],
   "source": [
    "# 2.Find the physicians (ssn) who have prescribed two drugs to the same patient which have adverse interactions.\n"
   ]
  },
  {
   "cell_type": "code",
   "execution_count": 83,
   "id": "bccc1f97-e154-4a73-908a-bdcff4981366",
   "metadata": {},
   "outputs": [],
   "source": [
    "mycursor.execute(\"\"\"\n",
    "select distinct physicians.SSN\n",
    "from physicians \n",
    "join prescriptions P1 on physicians.SSN = P1.physician_id \n",
    "join prescriptions P2 on P1.patient_id = P2.patient_id \n",
    "join adverse_reactions on P1.drug_name = adverse_reactions.drug_name_1 and P2.drug_name = adverse_reactions.drug_name_2\n",
    "where P1.drug_name != P2.drug_name\n",
    "\"\"\")"
   ]
  },
  {
   "cell_type": "code",
   "execution_count": 84,
   "id": "913c23fd-2852-4a2b-8549-a18dff21ed79",
   "metadata": {},
   "outputs": [
    {
     "name": "stdout",
     "output_type": "stream",
     "text": [
      "('571-13-9020',)\n",
      "('156-28-1945',)\n",
      "('614-57-6885',)\n"
     ]
    }
   ],
   "source": [
    "for row in mycursor.fetchall():\n",
    "    print(row)"
   ]
  },
  {
   "cell_type": "code",
   "execution_count": 85,
   "id": "525a08af-7d46-4f93-82e1-2bf049e55715",
   "metadata": {},
   "outputs": [],
   "source": [
    "# 3.Find the physicians who have prescribed most drugs supplied by company DRUGXO."
   ]
  },
  {
   "cell_type": "code",
   "execution_count": 86,
   "id": "2358ec98-13da-4d5a-aeec-044625ce68d6",
   "metadata": {},
   "outputs": [],
   "source": [
    "mycursor.execute(\"\"\"\n",
    "select physicians.SSN\n",
    "from physicians \n",
    "join prescriptions on physicians.SSN = prescriptions.physician_id \n",
    "join contracts on prescriptions.drug_name = contracts.drug \n",
    "join companies on contracts.pharm_company_id = companies.id\n",
    "where companies.name = 'DRUGXO'\n",
    "group by physicians.SSN\n",
    "order by count(contracts.Contract_Id) desc limit 1\n",
    "\"\"\")"
   ]
  },
  {
   "cell_type": "code",
   "execution_count": 87,
   "id": "70cd2828-b1bf-4eab-9732-f3b214c3474e",
   "metadata": {},
   "outputs": [
    {
     "name": "stdout",
     "output_type": "stream",
     "text": [
      "('571-13-9020',)\n"
     ]
    }
   ],
   "source": [
    "for row in mycursor.fetchall():\n",
    "    print(row)"
   ]
  },
  {
   "cell_type": "code",
   "execution_count": 88,
   "id": "e669ff48-091a-4943-9aad-769a19715080",
   "metadata": {},
   "outputs": [],
   "source": [
    "# 4.For each drug supplied by company PHARMASEE display the price (per unit of quantity) charged by that company for that drug \n",
    "# along with the average price charged for that drug (by companies, not pharmacies). \n",
    "# Note: As it happens in the data we supplied each drug is supplied by only one company, \n",
    "# but your query should not be based on that."
   ]
  },
  {
   "cell_type": "code",
   "execution_count": 89,
   "id": "3255e5c6-2a2c-4cbb-934b-a284ebcddf1e",
   "metadata": {},
   "outputs": [],
   "source": [
    "mycursor.execute(\"\"\"\n",
    "with PHARMASEE_AVG as (select contracts.drug, SUM(contracts.price) / SUM(contracts.quantity) as price_average\n",
    "                       from contracts join companies on contracts.pharm_company_id = companies.id\n",
    "                       where companies.name = 'PHARMASEE'\n",
    "                       group by contracts.drug)\n",
    "select (contracts.price / contracts.quantity) as price_per_unit_of_quantity, PHARMASEE_AVG.price_average\n",
    "from contracts \n",
    "join companies on contracts.pharm_company_id = companies.id \n",
    "join PHARMASEE_AVG on contracts.drug = PHARMASEE_AVG.drug\n",
    "where companies.name = 'PHARMASEE'\n",
    "\"\"\")"
   ]
  },
  {
   "cell_type": "code",
   "execution_count": 90,
   "id": "5ed68572-94cb-4953-8d6c-81d86cf96966",
   "metadata": {},
   "outputs": [
    {
     "name": "stdout",
     "output_type": "stream",
     "text": [
      "(Decimal('2.5000'), Decimal('2.5000'))\n",
      "(Decimal('1.8125'), Decimal('2.2500'))\n",
      "(Decimal('4.0000'), Decimal('2.2500'))\n"
     ]
    }
   ],
   "source": [
    "for row in mycursor.fetchall():\n",
    "    print(row)"
   ]
  },
  {
   "cell_type": "code",
   "execution_count": 91,
   "id": "59658e29-a49d-438e-9ff9-48be29fa8b31",
   "metadata": {},
   "outputs": [],
   "source": [
    "# 5.For each drug and for each pharmacy, \n",
    "# find the percentage of the markup (per unit of quantity) for that drug by that pharmacy."
   ]
  },
  {
   "cell_type": "code",
   "execution_count": 92,
   "id": "b2ec583c-7edd-46ae-9194-a29fdb7493de",
   "metadata": {},
   "outputs": [],
   "source": [
    "mycursor.execute(\"\"\"\n",
    "select contracts.drug, contracts.pharmacy_id,((pharmacy_fills.cost/prescriptions.quantity) - (contracts.price/contracts.quantity)) / (contracts.price/contracts.quantity) * 100 as percentage_of_markup\n",
    "from pharmacy_fills\n",
    "join prescriptions on pharmacy_fills.prescription_id = prescriptions.id\n",
    "right join contracts on prescriptions.drug_name = contracts.drug and contracts.pharmacy_id = pharmacy_fills.pharmacy_id\n",
    "\"\"\")"
   ]
  },
  {
   "cell_type": "code",
   "execution_count": 93,
   "id": "41f86bc2-298d-4b75-a646-ff61315e30c6",
   "metadata": {},
   "outputs": [
    {
     "name": "stdout",
     "output_type": "stream",
     "text": [
      "('Cleotrana', 5, None)\n",
      "('Primalovir', 5, None)\n",
      "('Kanulin', 4, Decimal('871.5909090909'))\n",
      "('Olanzanafine', 6, None)\n",
      "('Avafoxin', 15, None)\n",
      "('Quixiposide', 5, None)\n",
      "('Glucozepam Amcipentin', 10, None)\n",
      "('Divisporine Acetaclotide', 12, None)\n",
      "('Abnazole Toleluble', 14, None)\n",
      "('Dantopex Quixilinum', 14, None)\n",
      "('Olanzanafine', 1, None)\n",
      "('Olanzanafine', 2, None)\n",
      "('Olanzanafine', 3, None)\n",
      "('Glucozepam Amcipentin', 8, None)\n",
      "('Divisporine Acetaclotide', 9, None)\n",
      "('Dantopex Quixilinum', 13, None)\n",
      "('Glucozepam Amcipentin', 4, None)\n",
      "('Avafoxin', 8, Decimal('171.3518518333'))\n"
     ]
    }
   ],
   "source": [
    "for row in mycursor.fetchall():\n",
    "    print(row)"
   ]
  },
  {
   "cell_type": "code",
   "execution_count": 94,
   "id": "c2ec2e55-18b6-4093-8deb-6def56568a3d",
   "metadata": {},
   "outputs": [],
   "source": [
    "# 6.For each drug, find the average time between when a patient was prescribed a drug \n",
    "# and when the prescription was filled at a pharmacy. \n",
    "# (You will need to extract the components of a date to compute this. \n",
    "# SQL provides functions for doing that—please Google for this if I don't cover this in class next week)."
   ]
  },
  {
   "cell_type": "code",
   "execution_count": 95,
   "id": "1f578aa2-39b1-4c19-bcfd-f999edce43ab",
   "metadata": {},
   "outputs": [],
   "source": [
    "mycursor.execute(\"\"\"\n",
    "select prescriptions.drug_name, AVG(TIMESTAMPDIFF(DAY, prescriptions.date, pharmacy_fills.date)) AS average_time_between\n",
    "from prescriptions \n",
    "left join pharmacy_fills on prescriptions.id = pharmacy_fills.prescription_id\n",
    "group by prescriptions.drug_name\n",
    "\"\"\")"
   ]
  },
  {
   "cell_type": "code",
   "execution_count": 96,
   "id": "c35b7acc-77e4-4550-b384-015851187e81",
   "metadata": {},
   "outputs": [
    {
     "name": "stdout",
     "output_type": "stream",
     "text": [
      "('Avafoxin', Decimal('1.7500'))\n",
      "('Cleotrana', Decimal('1.3333'))\n",
      "('Primalovir', Decimal('2.0000'))\n",
      "('Glucozepam Amcipentin', Decimal('1.5000'))\n",
      "('Olanzanafine', Decimal('2.0000'))\n",
      "('Abnazole Toleluble', Decimal('4.0000'))\n",
      "('Dantopex Quixilinum', Decimal('2.0000'))\n",
      "('Quixiposide', Decimal('2.0000'))\n",
      "('Kanulin', Decimal('0.0000'))\n"
     ]
    }
   ],
   "source": [
    "for row in mycursor.fetchall():\n",
    "    print(row)"
   ]
  },
  {
   "cell_type": "code",
   "execution_count": 97,
   "id": "ee6ed8c5-25c7-4be3-84e4-633578295c89",
   "metadata": {},
   "outputs": [],
   "source": [
    "# 7.For each pharmacy, find all the drugs that were prescribed to a patient and never filled at that pharmacy."
   ]
  },
  {
   "cell_type": "code",
   "execution_count": 98,
   "id": "8d415730-a49d-4b89-9bfd-e58995568a14",
   "metadata": {},
   "outputs": [],
   "source": [
    "mycursor.execute(\"\"\"\n",
    "select pharmacies.name, prescriptions.drug_name\n",
    "from pharmacies cross join prescriptions\n",
    "where not exists (select pharmacies.name, prescriptions.drug_name\n",
    "                  from pharmacy_fills\n",
    "                  where pharmacy_fills.prescription_id = prescriptions.id and pharmacy_fills.pharmacy_id = pharmacies.id)\n",
    "order by pharmacies.name, prescriptions.drug_name\n",
    "\"\"\")"
   ]
  },
  {
   "cell_type": "code",
   "execution_count": 99,
   "id": "39c4072b-5df1-4c7e-9a0a-3f37293f6e16",
   "metadata": {},
   "outputs": [
    {
     "name": "stdout",
     "output_type": "stream",
     "text": [
      "(' Bayside Pharmacy', 'Abnazole Toleluble')\n",
      "(' Bayside Pharmacy', 'Avafoxin')\n",
      "(' Bayside Pharmacy', 'Avafoxin')\n",
      "(' Bayside Pharmacy', 'Avafoxin')\n",
      "(' Bayside Pharmacy', 'Avafoxin')\n",
      "(' Bayside Pharmacy', 'Cleotrana')\n",
      "(' Bayside Pharmacy', 'Cleotrana')\n",
      "(' Bayside Pharmacy', 'Cleotrana')\n",
      "(' Bayside Pharmacy', 'Dantopex Quixilinum')\n",
      "(' Bayside Pharmacy', 'Glucozepam Amcipentin')\n",
      "(' Bayside Pharmacy', 'Kanulin')\n",
      "(' Bayside Pharmacy', 'Olanzanafine')\n",
      "(' Bayside Pharmacy', 'Primalovir')\n",
      "(' Bayside Pharmacy', 'Primalovir')\n",
      "(' Bayside Pharmacy', 'Quixiposide')\n",
      "(' Beantown Drugs', 'Abnazole Toleluble')\n",
      "(' Beantown Drugs', 'Avafoxin')\n",
      "(' Beantown Drugs', 'Avafoxin')\n",
      "(' Beantown Drugs', 'Avafoxin')\n",
      "(' Beantown Drugs', 'Avafoxin')\n",
      "(' Beantown Drugs', 'Cleotrana')\n",
      "(' Beantown Drugs', 'Cleotrana')\n",
      "(' Beantown Drugs', 'Dantopex Quixilinum')\n",
      "(' Beantown Drugs', 'Glucozepam Amcipentin')\n",
      "(' Beantown Drugs', 'Glucozepam Amcipentin')\n",
      "(' Beantown Drugs', 'Kanulin')\n",
      "(' Beantown Drugs', 'Olanzanafine')\n",
      "(' Beantown Drugs', 'Primalovir')\n",
      "(' Beantown Drugs', 'Primalovir')\n",
      "(' Beantown Drugs', 'Quixiposide')\n",
      "(' Capital Meds', 'Abnazole Toleluble')\n",
      "(' Capital Meds', 'Avafoxin')\n",
      "(' Capital Meds', 'Avafoxin')\n",
      "(' Capital Meds', 'Avafoxin')\n",
      "(' Capital Meds', 'Avafoxin')\n",
      "(' Capital Meds', 'Cleotrana')\n",
      "(' Capital Meds', 'Cleotrana')\n",
      "(' Capital Meds', 'Cleotrana')\n",
      "(' Capital Meds', 'Glucozepam Amcipentin')\n",
      "(' Capital Meds', 'Glucozepam Amcipentin')\n",
      "(' Capital Meds', 'Kanulin')\n",
      "(' Capital Meds', 'Olanzanafine')\n",
      "(' Capital Meds', 'Primalovir')\n",
      "(' Capital Meds', 'Primalovir')\n",
      "(' Capital Meds', 'Quixiposide')\n",
      "(' Desert Bloom Pharmacy', 'Abnazole Toleluble')\n",
      "(' Desert Bloom Pharmacy', 'Avafoxin')\n",
      "(' Desert Bloom Pharmacy', 'Avafoxin')\n",
      "(' Desert Bloom Pharmacy', 'Avafoxin')\n",
      "(' Desert Bloom Pharmacy', 'Avafoxin')\n",
      "(' Desert Bloom Pharmacy', 'Cleotrana')\n",
      "(' Desert Bloom Pharmacy', 'Cleotrana')\n",
      "(' Desert Bloom Pharmacy', 'Cleotrana')\n",
      "(' Desert Bloom Pharmacy', 'Dantopex Quixilinum')\n",
      "(' Desert Bloom Pharmacy', 'Glucozepam Amcipentin')\n",
      "(' Desert Bloom Pharmacy', 'Glucozepam Amcipentin')\n",
      "(' Desert Bloom Pharmacy', 'Kanulin')\n",
      "(' Desert Bloom Pharmacy', 'Primalovir')\n",
      "(' Desert Bloom Pharmacy', 'Primalovir')\n",
      "(' Desert Bloom Pharmacy', 'Quixiposide')\n",
      "(' Emerald City Pharmacy', 'Avafoxin')\n",
      "(' Emerald City Pharmacy', 'Avafoxin')\n",
      "(' Emerald City Pharmacy', 'Avafoxin')\n",
      "(' Emerald City Pharmacy', 'Cleotrana')\n",
      "(' Emerald City Pharmacy', 'Cleotrana')\n",
      "(' Emerald City Pharmacy', 'Cleotrana')\n",
      "(' Emerald City Pharmacy', 'Dantopex Quixilinum')\n",
      "(' Emerald City Pharmacy', 'Glucozepam Amcipentin')\n",
      "(' Emerald City Pharmacy', 'Glucozepam Amcipentin')\n",
      "(' Emerald City Pharmacy', 'Kanulin')\n",
      "(' Emerald City Pharmacy', 'Olanzanafine')\n",
      "(' Emerald City Pharmacy', 'Primalovir')\n",
      "(' Emerald City Pharmacy', 'Primalovir')\n",
      "(' Emerald City Pharmacy', 'Quixiposide')\n",
      "(' Gateway Meds', 'Abnazole Toleluble')\n",
      "(' Gateway Meds', 'Avafoxin')\n",
      "(' Gateway Meds', 'Avafoxin')\n",
      "(' Gateway Meds', 'Avafoxin')\n",
      "(' Gateway Meds', 'Avafoxin')\n",
      "(' Gateway Meds', 'Cleotrana')\n",
      "(' Gateway Meds', 'Cleotrana')\n",
      "(' Gateway Meds', 'Cleotrana')\n",
      "(' Gateway Meds', 'Dantopex Quixilinum')\n",
      "(' Gateway Meds', 'Glucozepam Amcipentin')\n",
      "(' Gateway Meds', 'Glucozepam Amcipentin')\n",
      "(' Gateway Meds', 'Kanulin')\n",
      "(' Gateway Meds', 'Olanzanafine')\n",
      "(' Gateway Meds', 'Primalovir')\n",
      "(' Gateway Meds', 'Primalovir')\n",
      "(' Gateway Meds', 'Quixiposide')\n",
      "(' Golden Gate Drugs', 'Abnazole Toleluble')\n",
      "(' Golden Gate Drugs', 'Avafoxin')\n",
      "(' Golden Gate Drugs', 'Avafoxin')\n",
      "(' Golden Gate Drugs', 'Avafoxin')\n",
      "(' Golden Gate Drugs', 'Cleotrana')\n",
      "(' Golden Gate Drugs', 'Cleotrana')\n",
      "(' Golden Gate Drugs', 'Cleotrana')\n",
      "(' Golden Gate Drugs', 'Dantopex Quixilinum')\n",
      "(' Golden Gate Drugs', 'Glucozepam Amcipentin')\n",
      "(' Golden Gate Drugs', 'Glucozepam Amcipentin')\n",
      "(' Golden Gate Drugs', 'Kanulin')\n",
      "(' Golden Gate Drugs', 'Olanzanafine')\n",
      "(' Golden Gate Drugs', 'Primalovir')\n",
      "(' Golden Gate Drugs', 'Primalovir')\n",
      "(' Golden Gate Drugs', 'Quixiposide')\n",
      "(' Lakeside Drugs', 'Abnazole Toleluble')\n",
      "(' Lakeside Drugs', 'Avafoxin')\n",
      "(' Lakeside Drugs', 'Avafoxin')\n",
      "(' Lakeside Drugs', 'Avafoxin')\n",
      "(' Lakeside Drugs', 'Cleotrana')\n",
      "(' Lakeside Drugs', 'Cleotrana')\n",
      "(' Lakeside Drugs', 'Cleotrana')\n",
      "(' Lakeside Drugs', 'Dantopex Quixilinum')\n",
      "(' Lakeside Drugs', 'Glucozepam Amcipentin')\n",
      "(' Lakeside Drugs', 'Glucozepam Amcipentin')\n",
      "(' Lakeside Drugs', 'Kanulin')\n",
      "(' Lakeside Drugs', 'Olanzanafine')\n",
      "(' Lakeside Drugs', 'Primalovir')\n",
      "(' Lakeside Drugs', 'Primalovir')\n",
      "(' Lakeside Drugs', 'Quixiposide')\n",
      "(' Liberty Meds', 'Abnazole Toleluble')\n",
      "(' Liberty Meds', 'Avafoxin')\n",
      "(' Liberty Meds', 'Avafoxin')\n",
      "(' Liberty Meds', 'Avafoxin')\n",
      "(' Liberty Meds', 'Cleotrana')\n",
      "(' Liberty Meds', 'Cleotrana')\n",
      "(' Liberty Meds', 'Cleotrana')\n",
      "(' Liberty Meds', 'Dantopex Quixilinum')\n",
      "(' Liberty Meds', 'Glucozepam Amcipentin')\n",
      "(' Liberty Meds', 'Glucozepam Amcipentin')\n",
      "(' Liberty Meds', 'Kanulin')\n",
      "(' Liberty Meds', 'Olanzanafine')\n",
      "(' Liberty Meds', 'Primalovir')\n",
      "(' Liberty Meds', 'Primalovir')\n",
      "(' Liberty Meds', 'Quixiposide')\n",
      "(' Lone Star Drugs', 'Abnazole Toleluble')\n",
      "(' Lone Star Drugs', 'Avafoxin')\n",
      "(' Lone Star Drugs', 'Avafoxin')\n",
      "(' Lone Star Drugs', 'Avafoxin')\n",
      "(' Lone Star Drugs', 'Avafoxin')\n",
      "(' Lone Star Drugs', 'Cleotrana')\n",
      "(' Lone Star Drugs', 'Cleotrana')\n",
      "(' Lone Star Drugs', 'Cleotrana')\n",
      "(' Lone Star Drugs', 'Dantopex Quixilinum')\n",
      "(' Lone Star Drugs', 'Glucozepam Amcipentin')\n",
      "(' Lone Star Drugs', 'Kanulin')\n",
      "(' Lone Star Drugs', 'Olanzanafine')\n",
      "(' Lone Star Drugs', 'Primalovir')\n",
      "(' Lone Star Drugs', 'Primalovir')\n",
      "(' Lone Star Drugs', 'Quixiposide')\n",
      "(' Mile High Meds', 'Abnazole Toleluble')\n",
      "(' Mile High Meds', 'Avafoxin')\n",
      "(' Mile High Meds', 'Avafoxin')\n",
      "(' Mile High Meds', 'Avafoxin')\n",
      "(' Mile High Meds', 'Avafoxin')\n",
      "(' Mile High Meds', 'Cleotrana')\n",
      "(' Mile High Meds', 'Cleotrana')\n",
      "(' Mile High Meds', 'Cleotrana')\n",
      "(' Mile High Meds', 'Dantopex Quixilinum')\n",
      "(' Mile High Meds', 'Glucozepam Amcipentin')\n",
      "(' Mile High Meds', 'Glucozepam Amcipentin')\n",
      "(' Mile High Meds', 'Olanzanafine')\n",
      "(' Mile High Meds', 'Primalovir')\n",
      "(' Mile High Meds', 'Primalovir')\n",
      "(' Mile High Meds', 'Quixiposide')\n",
      "(' Peachtree Meds', 'Abnazole Toleluble')\n",
      "(' Peachtree Meds', 'Avafoxin')\n",
      "(' Peachtree Meds', 'Avafoxin')\n",
      "(' Peachtree Meds', 'Avafoxin')\n",
      "(' Peachtree Meds', 'Avafoxin')\n",
      "(' Peachtree Meds', 'Cleotrana')\n",
      "(' Peachtree Meds', 'Cleotrana')\n",
      "(' Peachtree Meds', 'Dantopex Quixilinum')\n",
      "(' Peachtree Meds', 'Glucozepam Amcipentin')\n",
      "(' Peachtree Meds', 'Glucozepam Amcipentin')\n",
      "(' Peachtree Meds', 'Kanulin')\n",
      "(' Peachtree Meds', 'Olanzanafine')\n",
      "(' Peachtree Meds', 'Primalovir')\n",
      "(' Peachtree Meds', 'Primalovir')\n",
      "(' Peachtree Meds', 'Quixiposide')\n",
      "(' Springfield Pharmacy', 'Abnazole Toleluble')\n",
      "(' Springfield Pharmacy', 'Avafoxin')\n",
      "(' Springfield Pharmacy', 'Avafoxin')\n",
      "(' Springfield Pharmacy', 'Avafoxin')\n",
      "(' Springfield Pharmacy', 'Avafoxin')\n",
      "(' Springfield Pharmacy', 'Cleotrana')\n",
      "(' Springfield Pharmacy', 'Cleotrana')\n",
      "(' Springfield Pharmacy', 'Dantopex Quixilinum')\n",
      "(' Springfield Pharmacy', 'Glucozepam Amcipentin')\n",
      "(' Springfield Pharmacy', 'Glucozepam Amcipentin')\n",
      "(' Springfield Pharmacy', 'Kanulin')\n",
      "(' Springfield Pharmacy', 'Olanzanafine')\n",
      "(' Springfield Pharmacy', 'Primalovir')\n",
      "(' Springfield Pharmacy', 'Quixiposide')\n",
      "(' Sunshine Pharmacy', 'Abnazole Toleluble')\n",
      "(' Sunshine Pharmacy', 'Avafoxin')\n",
      "(' Sunshine Pharmacy', 'Avafoxin')\n",
      "(' Sunshine Pharmacy', 'Avafoxin')\n",
      "(' Sunshine Pharmacy', 'Avafoxin')\n",
      "(' Sunshine Pharmacy', 'Cleotrana')\n",
      "(' Sunshine Pharmacy', 'Cleotrana')\n",
      "(' Sunshine Pharmacy', 'Cleotrana')\n",
      "(' Sunshine Pharmacy', 'Dantopex Quixilinum')\n",
      "(' Sunshine Pharmacy', 'Glucozepam Amcipentin')\n",
      "(' Sunshine Pharmacy', 'Glucozepam Amcipentin')\n",
      "(' Sunshine Pharmacy', 'Kanulin')\n",
      "(' Sunshine Pharmacy', 'Olanzanafine')\n",
      "(' Sunshine Pharmacy', 'Primalovir')\n",
      "(' Windy City Pharmacy', 'Abnazole Toleluble')\n",
      "(' Windy City Pharmacy', 'Avafoxin')\n",
      "(' Windy City Pharmacy', 'Avafoxin')\n",
      "(' Windy City Pharmacy', 'Avafoxin')\n",
      "(' Windy City Pharmacy', 'Avafoxin')\n",
      "(' Windy City Pharmacy', 'Cleotrana')\n",
      "(' Windy City Pharmacy', 'Cleotrana')\n",
      "(' Windy City Pharmacy', 'Cleotrana')\n",
      "(' Windy City Pharmacy', 'Dantopex Quixilinum')\n",
      "(' Windy City Pharmacy', 'Glucozepam Amcipentin')\n",
      "(' Windy City Pharmacy', 'Glucozepam Amcipentin')\n",
      "(' Windy City Pharmacy', 'Kanulin')\n",
      "(' Windy City Pharmacy', 'Olanzanafine')\n",
      "(' Windy City Pharmacy', 'Primalovir')\n",
      "(' Windy City Pharmacy', 'Primalovir')\n",
      "(' Windy City Pharmacy', 'Quixiposide')\n"
     ]
    }
   ],
   "source": [
    "for row in mycursor.fetchall():\n",
    "    print(row)"
   ]
  }
 ],
 "metadata": {
  "kernelspec": {
   "display_name": "Python 3 (ipykernel)",
   "language": "python",
   "name": "python3"
  },
  "language_info": {
   "codemirror_mode": {
    "name": "ipython",
    "version": 3
   },
   "file_extension": ".py",
   "mimetype": "text/x-python",
   "name": "python",
   "nbconvert_exporter": "python",
   "pygments_lexer": "ipython3",
   "version": "3.11.4"
  }
 },
 "nbformat": 4,
 "nbformat_minor": 5
}
